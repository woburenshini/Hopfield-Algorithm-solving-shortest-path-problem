{
 "cells": [
  {
   "cell_type": "code",
   "execution_count": 74,
   "metadata": {},
   "outputs": [],
   "source": [
    "import numpy as np\n",
    "import random, copy\n",
    "import pickle"
   ]
  },
  {
   "cell_type": "code",
   "execution_count": 163,
   "metadata": {},
   "outputs": [],
   "source": [
    "nn = 5 # Number of nodes in the graph\n",
    "source = 0 # source node (count starts at 0)\n",
    "destination = 9 # destination node\n",
    "u1 = 950     #u1-5 , a,b,c are parameters\n",
    "u2 = 2500\n",
    "u3 = 1500\n",
    "u4 = 475\n",
    "u5 = 2500\n",
    "t =1000 #number of step of input update"
   ]
  },
  {
   "cell_type": "code",
   "execution_count": 164,
   "metadata": {},
   "outputs": [],
   "source": [
    "a = 0.0001\n",
    "b = 0.00001\n",
    "c = 0.00001\n",
    "lda = 5      # lambda of the sigmoid function\n",
    "dv = 1e-05   # output variation (delta output) - i. e. the threshold shown in the algorithm of Bastos-Filho\n",
    "outputm = np.zeros((nn, nn))\n",
    "inputm = np.zeros((nn, nn))\n",
    "inputm1 = np.zeros((nn, nn))\n",
    "inputm2 = np.zeros((nn, nn))"
   ]
  },
  {
   "cell_type": "code",
   "execution_count": null,
   "metadata": {},
   "outputs": [],
   "source": [
    "#generate 5000 graphs with 5 nodes\n",
    "graphs_8= graph_gen(5,5000)\n",
    "print(graphs_8)"
   ]
  },
  {
   "cell_type": "code",
   "execution_count": null,
   "metadata": {},
   "outputs": [],
   "source": [
    "#calculate shortest path with hnn for each graph\n",
    "hop_dis=[]\n",
    "i=0\n",
    "for gg in graphs_8:\n",
    "    dis_8 = hopfield(u1,u2,u3,u4,u5,nn,gg,t)\n",
    "    hop_dis.append(dis_8)\n",
    "    i+=1\n",
    "    print(i)\n",
    "    print('dis is'+ str(dis_8))\n",
    "print (hop_dis)"
   ]
  },
  {
   "cell_type": "code",
   "execution_count": null,
   "metadata": {},
   "outputs": [],
   "source": [
    "#calculate shortest path with Dijkstra for each graph\n",
    "shortestpath =[]\n",
    "for g in graphs_8:\n",
    "    print(g)\n",
    "    s = dijkstra(g)\n",
    "    print(s)\n",
    "    print(g)\n",
    "    shortestpath.append(s)\n",
    "print(shortestpath)"
   ]
  },
  {
   "cell_type": "code",
   "execution_count": null,
   "metadata": {},
   "outputs": [],
   "source": [
    "#calculate accuracy\n",
    "count = 0\n",
    "for i in range(0,100):\n",
    "    if hop_dis[i] == shortestpath[i]:\n",
    "        count +=1\n",
    "print(count/100)"
   ]
  },
  {
   "cell_type": "code",
   "execution_count": 131,
   "metadata": {},
   "outputs": [],
   "source": [
    "def graph_gen(node, graph_num):   # node (number of node in graph)  graph_num (number of graph generated)\n",
    "    weight = list(range(0,11))\n",
    "    weight2 = list(range(0,16))\n",
    "    graphs = list()\n",
    "    for n in range(0,graph_num):\n",
    "        graph = np.zeros((node,node))\n",
    "        for i in range(0,node-1):\n",
    "            for j in range(1,node):\n",
    "                if i==j:\n",
    "                    graph[i][j] = 0\n",
    "                else:\n",
    "                    graph[i][j]= random.choice(weight)\n",
    "        graph[0][node-1] = random.choice(weight2)\n",
    "        graphs.append(graph)\n",
    "    return graphs   "
   ]
  },
  {
   "cell_type": "code",
   "execution_count": 108,
   "metadata": {},
   "outputs": [],
   "source": [
    "def hopfield(u1,u2,u3,u4,u5,nn,costm,t):\n",
    "    weightm = weight_matrix(nn,u4,u3)\n",
    "    linkm = link_matrix(costm)\n",
    "    biasm = bias_matrix(costm,linkm,u1,u2,u4,u5)\n",
    "    #inputmf = update_inputs(inputm, inputm1,inputm2,biasm,weightm)\n",
    "    a = clc_output(t,inputm, inputm1,inputm2,biasm,weightm)\n",
    "    b = proute(a)\n",
    "    dis = cal_dis(b,costm)\n",
    "    return dis"
   ]
  },
  {
   "cell_type": "code",
   "execution_count": 170,
   "metadata": {},
   "outputs": [
    {
     "name": "stdout",
     "output_type": "stream",
     "text": [
      "0.15\n"
     ]
    }
   ],
   "source": [
    "count = 0\n",
    "for i in range(0,100):\n",
    "    if hop_dis[i] == shortestpath[i]:\n",
    "        count +=1\n",
    "print(count/100)"
   ]
  },
  {
   "cell_type": "code",
   "execution_count": 10,
   "metadata": {},
   "outputs": [],
   "source": [
    "# kronecker delta \n",
    "def kd(a, b):\n",
    "    if a == b:\n",
    "        return 1\n",
    "    return 0"
   ]
  },
  {
   "cell_type": "code",
   "execution_count": 11,
   "metadata": {},
   "outputs": [],
   "source": [
    "#print matrix\n",
    "def pmatrix(matrix, size):\n",
    "    for x in range(0, size):\n",
    "        for i in range(0, size):\n",
    "            print (matrix[x, i], \"\"),\n",
    "        print"
   ]
  },
  {
   "cell_type": "code",
   "execution_count": 12,
   "metadata": {},
   "outputs": [],
   "source": [
    "#  Build weight matrix\n",
    "def weight_matrix(nn,u4,u3):\n",
    "    weightm = np.zeros((nn*nn,nn*nn))\n",
    "    for x in range(0, nn):\n",
    "        for i in range(0, nn):\n",
    "            for y in range(0, nn):\n",
    "                for j in range(0, nn):\n",
    "                    p = x*nn+i\n",
    "                    q = y*nn+j  #weight[p,q] = Txi,yj\n",
    "                    weightm[p, q] = u4*kd(x, y)*kd(i, j) - u3*kd(x, y) - u3*kd(i, j) + u3*kd(j, x) + u3*kd(i, y)\n",
    "    return weightm"
   ]
  },
  {
   "cell_type": "code",
   "execution_count": 13,
   "metadata": {},
   "outputs": [],
   "source": [
    "#Calculate the topology and the bias matrix\n",
    "#link(x,i) = 1 when arc (x,i) does not exist\n",
    "# Topology:\n",
    "def link_matrix(costm):\n",
    "    n = len(costm)\n",
    "    linkm = np.zeros((n,n))\n",
    "    for i in range(0,n):\n",
    "         for j in range(0,n):\n",
    "            if costm[i][j] == 0:\n",
    "                 linkm[i][j] = 1\n",
    "    return linkm"
   ]
  },
  {
   "cell_type": "code",
   "execution_count": 37,
   "metadata": {},
   "outputs": [],
   "source": [
    "# Bias:\n",
    "def bias_matrix(costm,linkm,u1,u2,u4,u5):\n",
    "    n=len(costm)\n",
    "    biasm = np.zeros((n,n))\n",
    "    for x in range(0, nn):\n",
    "        for i in range(0, nn):\n",
    "            if (x,i) == (source, destination):\n",
    "                biasm[x, i] = 0.5*(u5-u4)\n",
    "            else:\n",
    "                biasm[x, i] = -0.5*(u1*costm[x,i]+u2*linkm[x,i]+u4)\n",
    "    return biasm"
   ]
  },
  {
   "cell_type": "code",
   "execution_count": 26,
   "metadata": {},
   "outputs": [],
   "source": [
    "# Initiate the input neuron matrix (add noise) \n",
    "def ini_matrix(nn):\n",
    "    for x in range(0, nn):                            \n",
    "            inputm[x, i] = random.randrange(0, 999)\n",
    "    return inputm"
   ]
  },
  {
   "cell_type": "code",
   "execution_count": 27,
   "metadata": {},
   "outputs": [],
   "source": [
    "#  Calculate output neuron matrix\n",
    "def get_outs(inputm):\n",
    "    for x in range(0, nn):\n",
    "        for i in range(0, nn):\n",
    "            outputm[x, i] = 1/(1+np.exp(-lda*inputm[x,i]/833.336))\n",
    "    return outputm"
   ]
  },
  {
   "cell_type": "code",
   "execution_count": 28,
   "metadata": {},
   "outputs": [],
   "source": [
    "#  Calculate new input neuron matrix           ### This activation update is based on the equation\n",
    "def update_inputs(inputm, inputm1,inputm2,biasm,weightm):                             ### of Bastos-Filho. Proabably where something is wrong(too).\n",
    "    for x in range(0, nn):\n",
    "        for i in range(0, nn):\n",
    "            t1 = -a*inputm1[x,i]\n",
    "            t2 = -b*inputm2[x,i]\n",
    "            t3 = 0.0\n",
    "            for y in range(0, nn):\n",
    "                for j in range(0, nn):\n",
    "                    if j != y:\n",
    "                        t3 += weightm[x*nn+i, y*nn+j]*outputm[y,j] + biasm[x,i]\n",
    "            t3 *= c\n",
    "            inputm[x,i], inputm1[x,i], inputm2[x,i]= inputm[x,i] + t1 + t2 + t3, inputm[x,i], inputm1[x,i]\n",
    "    return inputm"
   ]
  },
  {
   "cell_type": "code",
   "execution_count": 46,
   "metadata": {},
   "outputs": [],
   "source": [
    "\n",
    "def clc_output(n,inputm, inputm1,inputm2,biasm,weightm):\n",
    "    for i in range(0, n):\n",
    "        output = get_outs(update_inputs(inputm, inputm1,inputm2,biasm,weightm))\n",
    "    return output"
   ]
  },
  {
   "cell_type": "code",
   "execution_count": 30,
   "metadata": {},
   "outputs": [
    {
     "name": "stdout",
     "output_type": "stream",
     "text": [
      " - Final with binary output - \n"
     ]
    }
   ],
   "source": [
    "\n",
    "print (\" - Final with binary output - \")\n",
    "def proute(outputm):\n",
    "    n= len(outputm)\n",
    "    outputm2 = np.zeros((n,n))\n",
    "    for x in range(0, nn):\n",
    "        for i in range(0, nn):\n",
    "            if outputm[x, i] >= 0.5:\n",
    "                    outputm2[x, i] = 1\n",
    "            else:\n",
    "                    outputm2[x, i] = 0\n",
    "    return outputm2"
   ]
  },
  {
   "cell_type": "code",
   "execution_count": 31,
   "metadata": {},
   "outputs": [],
   "source": [
    "def cal_dis(output,costm):\n",
    "    n = len(output)\n",
    "    d = 0\n",
    "    for i in range(0,n):\n",
    "        for j in range(0,n):\n",
    "            if output[i][j] ==1:\n",
    "                c = costm[i][j]\n",
    "                d+=c\n",
    "    return d"
   ]
  },
  {
   "cell_type": "code",
   "execution_count": null,
   "metadata": {},
   "outputs": [],
   "source": [
    "def dijkstra(g):\n",
    "    spath = g[0]\n",
    "    n= g.shape[0]\n",
    "    for i in range(1,n):\n",
    "        for j in range(0,n):\n",
    "            if spath[j] > spath[i]+g[i][j]:\n",
    "                if spath[j]!=0:\n",
    "                    if g[i][j]!=0:\n",
    "                        spath[j] =spath[i]+g[i][j]\n",
    "#                 else:\n",
    "#                     spath[j] = spath[j]\n",
    "            if spath[j] ==0:\n",
    "                if j>0:\n",
    "                    spath[j] =spath[i]+g[i][j]\n",
    "    return(spath[-1])"
   ]
  }
 ],
 "metadata": {
  "kernelspec": {
   "display_name": "Python 3",
   "language": "python",
   "name": "python3"
  },
  "language_info": {
   "codemirror_mode": {
    "name": "ipython",
    "version": 3
   },
   "file_extension": ".py",
   "mimetype": "text/x-python",
   "name": "python",
   "nbconvert_exporter": "python",
   "pygments_lexer": "ipython3",
   "version": "3.6.3"
  }
 },
 "nbformat": 4,
 "nbformat_minor": 2
}
